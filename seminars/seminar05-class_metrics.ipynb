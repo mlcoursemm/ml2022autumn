{
 "cells": [
  {
   "cell_type": "code",
   "execution_count": 1,
   "metadata": {},
   "outputs": [],
   "source": [
    "import matplotlib.pyplot as plt \n",
    "import numpy as np\n",
    "import sklearn.metrics\n",
    "%matplotlib inline "
   ]
  },
  {
   "cell_type": "code",
   "execution_count": 2,
   "metadata": {},
   "outputs": [],
   "source": [
    "y_true = [+1, -1, -1, +1, -1, +1, -1, -1, +1, -1]\n",
    "y_pred = [+1, +1, -1, -1, -1, -1, -1, -1, -1, +1]\n",
    "classes_order = [+1, -1]"
   ]
  },
  {
   "cell_type": "markdown",
   "metadata": {},
   "source": [
    "## Матрица ошибок"
   ]
  },
  {
   "cell_type": "code",
   "execution_count": 3,
   "metadata": {},
   "outputs": [
    {
     "name": "stdout",
     "output_type": "stream",
     "text": [
      "[[1 2]\n",
      " [3 4]]\n"
     ]
    }
   ],
   "source": [
    "CM = sklearn.metrics.confusion_matrix(y_true, y_pred, labels=classes_order)\n",
    "CM = CM.T # По умолчанию строки соотв. правильным ответам, а столбцы - ответам алгоритма\n",
    "print(CM)"
   ]
  },
  {
   "cell_type": "code",
   "execution_count": 5,
   "metadata": {},
   "outputs": [
    {
     "name": "stdout",
     "output_type": "stream",
     "text": [
      "tp=1, fp=2, fn=3, tn=4\n"
     ]
    }
   ],
   "source": [
    "tp, fp, fn, tn = CM.ravel()\n",
    "print(f'tp={tp}, fp={fp}, fn={fn}, tn={tn}')"
   ]
  },
  {
   "cell_type": "code",
   "execution_count": 6,
   "metadata": {},
   "outputs": [
    {
     "data": {
      "image/png": "[encoded data removed]",
      "text/plain": [
       "<Figure size 288x288 with 2 Axes>"
      ]
     },
     "metadata": {
      "needs_background": "light"
     },
     "output_type": "display_data"
    }
   ],
   "source": [
    "ax = plt.matshow(CM)\n",
    "plt.xticks([0,1], classes_order) #, rotation='vertical'\n",
    "plt.yticks([0,1], classes_order) #, rotation='vertical'\n",
    "plt.xlabel('правильный ответ')\n",
    "plt.ylabel('ответ алгоритма')\n",
    "plt.colorbar()\n",
    "plt.show()"
   ]
  },
  {
   "cell_type": "markdown",
   "metadata": {},
   "source": [
    "## Доля правильных ответов"
   ]
  },
  {
   "cell_type": "code",
   "execution_count": 7,
   "metadata": {},
   "outputs": [
    {
     "name": "stdout",
     "output_type": "stream",
     "text": [
      "Accuracy1 = 0.5\n",
      "Accuracy2 = 0.5\n"
     ]
    }
   ],
   "source": [
    "acc = sklearn.metrics.accuracy_score(y_true, y_pred)\n",
    "print('Accuracy1 =', acc)\n",
    "print('Accuracy2 =', (tp+tn)/(tp+tn+fp+fn))"
   ]
  },
  {
   "cell_type": "markdown",
   "metadata": {},
   "source": [
    "## Точность, полнота, F-мера"
   ]
  },
  {
   "cell_type": "code",
   "execution_count": 8,
   "metadata": {},
   "outputs": [
    {
     "name": "stdout",
     "output_type": "stream",
     "text": [
      "Precision1 = 0.3333333333333333\n",
      "Precision2 = 0.3333333333333333\n"
     ]
    }
   ],
   "source": [
    "prec = sklearn.metrics.precision_score(y_true, y_pred, pos_label=+1) #pos_label нужно для задания positive класса\n",
    "print('Precision1 =', prec)\n",
    "print('Precision2 =', tp/(tp+fp))"
   ]
  },
  {
   "cell_type": "code",
   "execution_count": 9,
   "metadata": {},
   "outputs": [
    {
     "name": "stdout",
     "output_type": "stream",
     "text": [
      "Recall1 = 0.25\n",
      "Recall2 = 0.25\n"
     ]
    }
   ],
   "source": [
    "rec = sklearn.metrics.recall_score(y_true, y_pred, pos_label=+1)\n",
    "print('Recall1 =', rec)\n",
    "print('Recall2 =', tp/(tp+fn))"
   ]
  },
  {
   "cell_type": "code",
   "execution_count": 10,
   "metadata": {},
   "outputs": [
    {
     "name": "stdout",
     "output_type": "stream",
     "text": [
      "F11 = 0.28571428571428575\n",
      "F12 = 0.28571428571428575\n"
     ]
    }
   ],
   "source": [
    "f1 = sklearn.metrics.f1_score(y_true, y_pred, pos_label=+1)\n",
    "print('F11 =', f1)\n",
    "print('F12 =', 2*prec*rec/(prec+rec))"
   ]
  },
  {
   "cell_type": "markdown",
   "metadata": {},
   "source": [
    "## ROC-кривая"
   ]
  },
  {
   "cell_type": "code",
   "execution_count": 11,
   "metadata": {},
   "outputs": [],
   "source": [
    "y = np.array([-1, -1, +1, +1])\n",
    "scores = np.array([0.1, 0.4, 0.35, 0.8])\n",
    "fpr, tpr, thresholds = sklearn.metrics.roc_curve(y, scores, pos_label=+1)"
   ]
  },
  {
   "cell_type": "code",
   "execution_count": 12,
   "metadata": {},
   "outputs": [
    {
     "data": {
      "image/png": "[encoded data removed]",
      "text/plain": [
       "<Figure size 432x288 with 2 Axes>"
      ]
     },
     "metadata": {
      "needs_background": "light"
     },
     "output_type": "display_data"
    }
   ],
   "source": [
    "fig, axes = plt.subplots(1, 2)\n",
    "\n",
    "axes[0].plot(fpr, tpr)\n",
    "axes[0].set_title('ROC')\n",
    "\n",
    "axes[1].plot(thresholds, fpr, 'b-+', label='FPR')\n",
    "axes[1].plot(thresholds, tpr, 'g-x', label='TPR')\n",
    "axes[1].legend()\n",
    "\n",
    "axes[0].set(xlabel=\"FPR\", ylabel=\"TPR\")\n",
    "axes[1].set(xlabel=\"Threshold\")\n",
    "\n",
    "plt.show()"
   ]
  },
  {
   "cell_type": "code",
   "execution_count": 13,
   "metadata": {},
   "outputs": [
    {
     "name": "stdout",
     "output_type": "stream",
     "text": [
      "AUROC1 = 0.75\n",
      "AUROC2 = 0.75\n"
     ]
    }
   ],
   "source": [
    "auroc = sklearn.metrics.roc_auc_score(y, scores) # positive класс - класс с большей меткой (+1)\n",
    "print('AUROC1 =', auroc)\n",
    "print('AUROC2 =', 1/2*1/2+1/2*1)"
   ]
  },
  {
   "cell_type": "markdown",
   "metadata": {},
   "source": [
    "## PR-кривая"
   ]
  },
  {
   "cell_type": "code",
   "execution_count": 14,
   "metadata": {},
   "outputs": [],
   "source": [
    "y = np.array([-1, -1, +1, +1])\n",
    "scores = np.array([0.1, 0.4, 0.35, 0.8])\n",
    "p, r, th = sklearn.metrics.precision_recall_curve(y, scores, pos_label=+1)\n",
    "eps = 0.1\n",
    "th = np.append(th, th[-1] + eps)"
   ]
  },
  {
   "cell_type": "code",
   "execution_count": 15,
   "metadata": {},
   "outputs": [
    {
     "data": {
      "image/png": "[encoded data removed]",
      "text/plain": [
       "<Figure size 432x288 with 2 Axes>"
      ]
     },
     "metadata": {
      "needs_background": "light"
     },
     "output_type": "display_data"
    }
   ],
   "source": [
    "fig, axes = plt.subplots(1, 2)\n",
    "\n",
    "axes[0].plot(r, p)\n",
    "axes[0].set_title('PR')\n",
    "\n",
    "axes[1].plot(th, r, 'b-+', label='Recall')\n",
    "axes[1].plot(th, p, 'g-x', label='Precision')\n",
    "axes[1].legend()\n",
    "\n",
    "axes[0].set(xlabel=\"Recall\", ylabel=\"Precision\")\n",
    "axes[1].set(xlabel=\"Threshold\")\n",
    "\n",
    "plt.show()"
   ]
  },
  {
   "cell_type": "code",
   "execution_count": 16,
   "metadata": {},
   "outputs": [
    {
     "name": "stdout",
     "output_type": "stream",
     "text": [
      "AUPRC1 = 0.8333333333333333\n",
      "AUPRC2 = 0.8333333333333333\n"
     ]
    }
   ],
   "source": [
    "auprc = sklearn.metrics.average_precision_score(y, scores, pos_label=+1)\n",
    "print('AUPRC1 =', auprc)\n",
    "print('AUPRC2 =', p[0]*(r[0]-r[1]) + p[1]*(r[1]-r[2]) + p[2]*(r[2]-r[3]))"
   ]
  },
  {
   "cell_type": "code",
   "execution_count": null,
   "metadata": {},
   "outputs": [],
   "source": []
  }
 ],
 "metadata": {
  "kernelspec": {
   "display_name": "Python 3 (ipykernel)",
   "language": "python",
   "name": "python3"
  },
  "language_info": {
   "codemirror_mode": {
    "name": "ipython",
    "version": 3
   },
   "file_extension": ".py",
   "mimetype": "text/x-python",
   "name": "python",
   "nbconvert_exporter": "python",
   "pygments_lexer": "ipython3",
   "version": "3.9.7"
  }
 },
 "nbformat": 4,
 "nbformat_minor": 2
}
