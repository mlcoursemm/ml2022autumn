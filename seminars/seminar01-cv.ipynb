{
 "cells": [
  {
   "cell_type": "markdown",
   "metadata": {},
   "source": [
    "### Курс \"Машинное обучение\"\n",
    "\n",
    "### Тема занятия: Кросс-валидация"
   ]
  },
  {
   "cell_type": "markdown",
   "metadata": {},
   "source": [
    "# Сравнение случайного поиска и поиска по сетке для поиска лучшего набора гиперпараметров\n",
    "\n",
    "## Вспомогательные функции"
   ]
  },
  {
   "cell_type": "markdown",
   "metadata": {},
   "source": [
    "### Разбиение базы на обучающую и тестовую"
   ]
  },
  {
   "cell_type": "code",
   "execution_count": null,
   "metadata": {},
   "outputs": [],
   "source": [
    "import numpy as np\n",
    "from sklearn.model_selection import train_test_split\n",
    "from sklearn import datasets\n",
    "\n",
    "X, y = datasets.load_iris(return_X_y=True)\n",
    "X_train, X_test, y_train, y_test = train_test_split(X, y, test_size=0.4, random_state=0) \n",
    "print('X.shape, y.shape: ', X.shape, y.shape)\n",
    "print('X_train.shape, y_train.shape, X_test.shape, y_test.shape: ', X_train.shape, y_train.shape, X_test.shape, y_test.shape)"
   ]
  },
  {
   "cell_type": "markdown",
   "metadata": {},
   "source": [
    "### Посмотрим на качество работы на k блоках в k-fold кросс-валидации"
   ]
  },
  {
   "cell_type": "code",
   "execution_count": null,
   "metadata": {},
   "outputs": [],
   "source": [
    "from sklearn import svm\n",
    "from sklearn.model_selection import cross_val_score\n",
    "\n",
    "clf = svm.SVC(kernel='linear', C=1)\n",
    "score = cross_val_score(clf, X_train, y_train, cv=5) \n",
    "print('Validation score on folds: ', score)"
   ]
  },
  {
   "cell_type": "markdown",
   "metadata": {},
   "source": [
    "### Также можно посмотреть на результат классификации на каждом примере\n",
    "\n",
    "Обратите внимание, что каждый пример входит ровно в один тестовый под-блок (и вот на нем и выводятся результаты)"
   ]
  },
  {
   "cell_type": "code",
   "execution_count": null,
   "metadata": {},
   "outputs": [],
   "source": [
    "from sklearn.model_selection import cross_val_predict\n",
    "\n",
    "clf = svm.SVC(kernel='linear', C=1)\n",
    "classes_pred = cross_val_predict(clf, X_train, y_train, cv=5) \n",
    "print('Class prediction: ', classes_pred)\n",
    "print('Total accuracy: ', np.sum(classes_pred == y_train) / y_train.shape[0])\n",
    "print('Total #examples', classes_pred.shape)"
   ]
  },
  {
   "cell_type": "markdown",
   "metadata": {},
   "source": [
    "### Генератор (на самом деле, итератор) разбиений для k-fold кросс-валидации"
   ]
  },
  {
   "cell_type": "code",
   "execution_count": null,
   "metadata": {},
   "outputs": [],
   "source": [
    "from sklearn.model_selection import KFold\n",
    "\n",
    "X1 = np.array([\"a\", \"b\", \"c\", \"d\"])\n",
    "kf = KFold(n_splits=2)\n",
    "for train, test in kf.split(X1):\n",
    "    print(\"train_idx: %s test_idx: %s\" % (train, test))\n",
    "    print(f\"train_el: {X1[train]} test_el: {X1[test]}\")"
   ]
  },
  {
   "cell_type": "markdown",
   "metadata": {},
   "source": [
    "### Генератор разбиений для LOO кросс-валидации"
   ]
  },
  {
   "cell_type": "code",
   "execution_count": null,
   "metadata": {},
   "outputs": [],
   "source": [
    "from sklearn.model_selection import LeaveOneOut\n",
    "\n",
    "loo = LeaveOneOut()\n",
    "for train, test in loo.split(X1):\n",
    "    print(\"train_idx: %s test_idx: %s\" % (train, test))\n",
    "    print(f\"train_el: {X1[train]} test_el: {X1[test]}\")"
   ]
  },
  {
   "cell_type": "markdown",
   "metadata": {},
   "source": [
    "### Генератор разбиений для многократной k-fold кросс-валидации"
   ]
  },
  {
   "cell_type": "code",
   "execution_count": null,
   "metadata": {},
   "outputs": [],
   "source": [
    "from sklearn.model_selection import RepeatedKFold\n",
    "\n",
    "rkf = RepeatedKFold(n_splits=2, n_repeats=2, random_state=123456)\n",
    "for train, test in rkf.split(X1):\n",
    "    print(\"train_idx: %s test_idx: %s\" % (train, test))\n",
    "    print(f\"train_el: {X1[train]} test_el: {X1[test]}\")"
   ]
  },
  {
   "cell_type": "markdown",
   "metadata": {},
   "source": [
    "## Поиск гиперпараметров\n",
    "\n",
    "### Поиск по сетке"
   ]
  },
  {
   "cell_type": "code",
   "execution_count": null,
   "metadata": {},
   "outputs": [],
   "source": [
    "from sklearn.model_selection import GridSearchCV\n",
    "\n",
    "param_grid = {'C': [0.1, 1, 10, 100, 1000], 'gamma': [1.0, 0.1, 0.01, 0.001, 0.0001], 'kernel': ['rbf']}\n",
    "svc = svm.SVC()\n",
    "clf = GridSearchCV(svc, param_grid, cv=5, refit=True) # Refit an estimator using the best found parameters on the whole dataset\n",
    "clf.fit(X_train, y_train) # Run CV grid search\n",
    "print('Best params: ', clf.best_params_)\n",
    "print('Validation score: ', clf.best_score_)\n",
    "score = clf.score(X_test, y_test) # Test on the best parameters\n",
    "print('Test score: ', score)"
   ]
  },
  {
   "cell_type": "markdown",
   "metadata": {},
   "source": [
    "### Случайный поиск по распределению"
   ]
  },
  {
   "cell_type": "code",
   "execution_count": null,
   "metadata": {},
   "outputs": [],
   "source": [
    "from sklearn.model_selection import RandomizedSearchCV\n",
    "from scipy.stats import loguniform\n",
    "\n",
    "param_dist = {'C': loguniform(0.1, 1000), 'gamma': loguniform(0.0001, 1.0), 'kernel': ['rbf']}\n",
    "svc = svm.SVC()\n",
    "clf = RandomizedSearchCV(svc, param_dist, n_iter=25, cv=5, refit=True) # Refit an estimator using the best found parameters on the whole dataset\n",
    "clf.fit(X_train, y_train) # Run CV grid search\n",
    "print('Best params: ', clf.best_params_)\n",
    "print('Validation score: ', clf.best_score_)\n",
    "score = clf.score(X_test, y_test) # Test on the best parameters\n",
    "print('Test score: ', score)"
   ]
  },
  {
   "cell_type": "markdown",
   "metadata": {},
   "source": [
    "### Сравнение подходов\n",
    "\n",
    "Загрузим более представительную базу данных"
   ]
  },
  {
   "cell_type": "code",
   "execution_count": null,
   "metadata": {},
   "outputs": [],
   "source": [
    "import numpy as np\n",
    "from sklearn.model_selection import train_test_split, GridSearchCV, RandomizedSearchCV\n",
    "from sklearn import datasets\n",
    "from sklearn import svm\n",
    "from scipy.stats import loguniform\n",
    "\n",
    "X, y = datasets.load_digits(return_X_y=True) # X.shape = (150, 4), y.shape = (150,)\n",
    "X_train, X_test, y_train, y_test = train_test_split(X, y, test_size=0.3, random_state=123456) \n",
    "print('X.shape, y.shape: ', X.shape, y.shape)\n",
    "print('X_train.shape, y_train.shape, X_test.shape, y_test.shape: ', X_train.shape, y_train.shape, X_test.shape, y_test.shape)"
   ]
  },
  {
   "cell_type": "markdown",
   "metadata": {},
   "source": [
    "Запускаем поиск по сетке размерности 9*9 = 81"
   ]
  },
  {
   "cell_type": "code",
   "execution_count": null,
   "metadata": {},
   "outputs": [],
   "source": [
    "import time # let's find the elapsed time\n",
    "\n",
    "param_grid = {'C': [0.1, 0.3, 1, 3, 10, 30, 100, 300, 1000], \n",
    "              'gamma': [1.0, 0.3, 0.1, 0.03, 0.01, 0.003, 0.001, 0.0003, 0.0001], 'kernel': ['rbf']}\n",
    "svc = svm.SVC()\n",
    "clf = GridSearchCV(svc, param_grid, cv=5, refit=True) # Refit an estimator using the best found parameters on the whole dataset\n",
    "start = time.time()\n",
    "clf.fit(X_train, y_train) # Run CV grid search\n",
    "elapsed = time.time() - start # time consumed\n",
    "print('GridSearchCV params:', clf.best_params_)\n",
    "score = clf.score(X_test, y_test) # Test on the best parameters\n",
    "print('GridSearchCV test score:', score)\n",
    "print(f'Time: {elapsed/60} min')"
   ]
  },
  {
   "cell_type": "markdown",
   "metadata": {},
   "source": [
    "Запускаем случайный поиск по лог-равномерному распределению (так же, как в сетке), всего 81 раз"
   ]
  },
  {
   "cell_type": "code",
   "execution_count": null,
   "metadata": {},
   "outputs": [],
   "source": [
    "param_dist = {'C': loguniform(0.1, 1000), 'gamma': loguniform(0.0001, 1.0), 'kernel': ['rbf']}\n",
    "svc = svm.SVC()\n",
    "clf = RandomizedSearchCV(svc, param_dist, n_iter=9*9, cv=5, random_state=123456, refit=True) # Refit an estimator using the best found parameters on the whole dataset\n",
    "start = time.time()\n",
    "clf.fit(X_train, y_train) # Run CV grid search\n",
    "elapsed = time.time() - start # time consumed\n",
    "print('RandomizedSearchCV params:', clf.best_params_)\n",
    "score = clf.score(X_test, y_test) # Test on the best parameters\n",
    "print('RandomizedSearchCV test score:', score)\n",
    "print(f'Time: {elapsed/60} min')"
   ]
  },
  {
   "cell_type": "markdown",
   "metadata": {},
   "source": [
    "Как видим, получилось даже лучше.\n",
    "\n",
    "Теперь сэкономим время, и запустим всего 10 раз"
   ]
  },
  {
   "cell_type": "code",
   "execution_count": null,
   "metadata": {},
   "outputs": [],
   "source": [
    "param_dist = {'C': loguniform(0.1, 1000), 'gamma': loguniform(0.0001, 1.0), 'kernel': ['rbf']}\n",
    "svc = svm.SVC()\n",
    "clf = RandomizedSearchCV(svc, param_dist, n_iter=10, cv=5, random_state=123456, refit=True) # Refit an estimator using the best found parameters on the whole dataset\n",
    "start = time.time()\n",
    "clf.fit(X_train, y_train) # Run CV grid search\n",
    "elapsed = time.time() - start # time consumed\n",
    "print('RandomizedSearchCV params:', clf.best_params_)\n",
    "score = clf.score(X_test, y_test) # Test on the best parameters\n",
    "print('RandomizedSearchCV test score:', score)\n",
    "print(f'Time: {elapsed/60} min')"
   ]
  },
  {
   "cell_type": "markdown",
   "metadata": {},
   "source": [
    "**Вывод**: порой не стоит скрупулезно проходить по полной сетке, можно сэкономить время и просэмплировать по распределению, потратив в разы меньше времени!"
   ]
  }
 ],
 "metadata": {
  "kernelspec": {
   "display_name": "Python [conda env:torchpy37]",
   "language": "python",
   "name": "conda-env-torchpy37-py"
  },
  "language_info": {
   "codemirror_mode": {
    "name": "ipython",
    "version": 3
   },
   "file_extension": ".py",
   "mimetype": "text/x-python",
   "name": "python",
   "nbconvert_exporter": "python",
   "pygments_lexer": "ipython3",
   "version": "3.7.7"
  }
 },
 "nbformat": 4,
 "nbformat_minor": 1
}
